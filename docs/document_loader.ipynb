{
  "cells": [
    {
      "cell_type": "markdown",
      "metadata": {
        "id": "6-0_o3DxsFGi"
      },
      "source": [
        "Google Database\n",
        "\n",
        "Use [Google Memorystore for Redis](https://cloud.google.com/memorystore/docs/redis/memorystore-for-redis-overview) to store Documents for LangChain."
      ]
    },
    {
      "cell_type": "markdown",
      "metadata": {
        "id": "dWakBoPnsFGj"
      },
      "source": [
        "## Pre-reqs"
      ]
    },
    {
      "cell_type": "markdown",
      "metadata": {
        "id": "EudfLv_UsFGk"
      },
      "source": [
        "### Setting Up a Memorystore for Redis Instance\n",
        "\n",
        "Before proceeding, an active Memorystore for Redis instance is needed to store chat message history:\n",
        "\n",
        "* Create a Memorystore for Redis Instance (>= 5.0): If an instance doesn't exist, follow the instructions at https://cloud.google.com/memorystore/docs/redis/create-instance-console to create a new one. Ensure the version is greater than or equal to 5.0.\n",
        "* Obtain Endpoint: Note the endpoint associated with the instance."
      ]
    },
    {
      "cell_type": "markdown",
      "metadata": {
        "id": "J5nxjYxHsFGk"
      },
      "source": [
        "### Installing the LangChain Memorystore for Redis Module\n",
        "\n",
        "Interaction with the Memorystore for Redis instance from LangChain requires installing the necessary module:"
      ]
    },
    {
      "cell_type": "code",
      "execution_count": null,
      "metadata": {
        "tags": [],
        "id": "iLwVMVkYsFGk"
      },
      "outputs": [],
      "source": [
        "# Install Memorystore for Redis for LangChain module\n",
        "%pip install langchain_google_memorystore_redis"
      ]
    },
    {
      "cell_type": "markdown",
      "metadata": {
        "id": "2L7kMu__sFGl"
      },
      "source": [
        "## Basic Usage"
      ]
    },
    {
      "cell_type": "markdown",
      "metadata": {
        "id": "A2fT1iEhsFGl"
      },
      "source": [
        "### Initialize a MemorystoreDocumentLoader\n",
        "\n",
        "Initialize a loader that loads all documents stored in the Memorystore for Redis instance with a specific prefix."
      ]
    },
    {
      "cell_type": "code",
      "execution_count": null,
      "metadata": {
        "id": "YEDKWR6asFGl"
      },
      "outputs": [],
      "source": [
        "import redis\n",
        "from langchain_google_memorystore_redis import MemorystoreDocumentLoader\n",
        "\n",
        "# Connect to a Memorystore for Redis instance\n",
        "redis_client = redis.from_url(\"redis://127.0.0.1:6379\")\n",
        "prefix = \"doc:\"\n",
        "\n",
        "loader = MemorystoreDocumentLoader(\n",
        "    client=redis_client,\n",
        "    key_prefix=prefix,\n",
        "    content_fields=set([\"page_content\"]),\n",
        ")"
      ]
    },
    {
      "cell_type": "markdown",
      "metadata": {
        "id": "EmoJcTgosFGl"
      },
      "source": [
        "### Load Documents\n",
        "\n",
        "Load all documents stored in the Memorystore for Redis instance at once."
      ]
    },
    {
      "cell_type": "code",
      "execution_count": null,
      "metadata": {
        "id": "gB1PGe6wsFGm"
      },
      "outputs": [],
      "source": [
        "documents = loader.load()"
      ]
    },
    {
      "cell_type": "markdown",
      "source": [
        "### Lazy Load Documents\n",
        "\n",
        "Load the document one-by-one with lazy_load generator."
      ],
      "metadata": {
        "id": "Vbs8gIa24YvJ"
      }
    },
    {
      "cell_type": "code",
      "source": [
        "for document in loader.lazy_load():\n",
        "  # Do something\n",
        "  print(document)"
      ],
      "metadata": {
        "id": "nPhpvLtA4kBM"
      },
      "execution_count": null,
      "outputs": []
    },
    {
      "cell_type": "markdown",
      "metadata": {
        "id": "02xxvmzTsFGm"
      },
      "source": [
        "## Customize Document Page Content & Metadata\n",
        "\n",
        "When initializing a loader with more than 1 content field, the `page_content` of the loaded Documents will contain a JSON-encoded string with top level fields equal to the specified fields in `content_fields`.\n",
        "\n",
        "If the `metadata_fields` are specified, the `metadata` field of the loaded Documents will only have the top level fields equal to the specified `metadata_fields`. If any of the values of the metadata fields is stored as a JSON-encoded string, it will be decoded prior to being loaded to the metadata fields."
      ]
    },
    {
      "cell_type": "code",
      "execution_count": null,
      "metadata": {
        "id": "BvS3UFsysFGm"
      },
      "outputs": [],
      "source": [
        "loader = MemorystoreDocumentLoader(\n",
        "    client=redis_client,\n",
        "    key_prefix=prefix,\n",
        "    content_fields=set([\"content_field_1\", \"content_field_2\"]),\n",
        "    metadata_fields=set([\"title\", \"author\"]),\n",
        ")"
      ]
    },
    {
      "cell_type": "markdown",
      "metadata": {
        "id": "sFJdt3ubsFGo"
      },
      "source": [
        "## Save Documents\n",
        "\n",
        "You can save a list of Documents into Memorystore for Redis instance like below. The Documents will be stored into randomly generated keys with the specified prefix of `key_prefix`. Alternatively, you can designate the suffixes of the keys by specifying `ids` in the `add_documents` method."
      ]
    },
    {
      "cell_type": "code",
      "execution_count": null,
      "metadata": {
        "id": "H5I7K3MTsFGo"
      },
      "outputs": [],
      "source": [
        "from langchain_google_memorystore_redis import MemorystoreDocumentSaver\n",
        "\n",
        "# Connect to a Memorystore for Redis instance\n",
        "redis_client = redis.from_url(\"redis://127.0.0.1:6379\")\n",
        "prefix = \"doc:\"\n",
        "\n",
        "saver = MemorystoreDocumentSaver(\n",
        "    client=redis_client,\n",
        "    key_prefix=prefix,\n",
        "    content_field=\"page_content\",\n",
        ")\n",
        "saver.add_documents(documents)"
      ]
    },
    {
      "cell_type": "markdown",
      "source": [
        "### Clean up Saved Documents\n",
        "\n",
        "Delete all of keys with the specified prefix in the Memorystore for Redis instance. You can also specify the suffixes of the keys if you know.\n",
        "\n"
      ],
      "metadata": {
        "id": "FLVI7Kp7mhL-"
      }
    },
    {
      "cell_type": "code",
      "source": [
        "saver.delete()"
      ],
      "metadata": {
        "id": "1ArfDYUGmrP3"
      },
      "execution_count": null,
      "outputs": []
    }
  ],
  "metadata": {
    "kernelspec": {
      "display_name": "Python 3 (ipykernel)",
      "language": "python",
      "name": "python3"
    },
    "language_info": {
      "codemirror_mode": {
        "name": "ipython",
        "version": 3
      },
      "file_extension": ".py",
      "mimetype": "text/x-python",
      "name": "python",
      "nbconvert_exporter": "python",
      "pygments_lexer": "ipython3",
      "version": "3.11.6"
    },
    "colab": {
      "provenance": [
        {
          "file_id": "1kuFhDfyzOdzS1apxQ--1efXB1pJ79yVY",
          "timestamp": 1708033015250
        }
      ]
    }
  },
  "nbformat": 4,
  "nbformat_minor": 0
}

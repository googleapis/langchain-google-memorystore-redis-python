{
 "cells": [
  {
   "cell_type": "code",
   "execution_count": null,
   "metadata": {},
   "outputs": [],
   "source": [
    "# Copyright 2024 Google LLC\n",
    "#\n",
    "# Licensed under the Apache License, Version 2.0 (the \"License\");\n",
    "# you may not use this file except in compliance with the License.\n",
    "# You may obtain a copy of the License at\n",
    "#\n",
    "#     https://www.apache.org/licenses/LICENSE-2.0\n",
    "#\n",
    "# Unless required by applicable law or agreed to in writing, software\n",
    "# distributed under the License is distributed on an \"AS IS\" BASIS,\n",
    "# WITHOUT WARRANTIES OR CONDITIONS OF ANY KIND, either express or implied.\n",
    "# See the License for the specific language governing permissions and\n",
    "# limitations under the License."
   ]
  },
  {
   "attachments": {},
   "cell_type": "markdown",
   "metadata": {},
   "source": [
    "[![Open In Colab](https://colab.research.google.com/assets/colab-badge.svg)](https://colab.research.google.com/github/googleapis/langchain-google-memorystore-redis-python/blob/main/samples/langchain_quick_start.ipynb)\n",
    "\n",
    "---\n",
    "\n",
    "# **Introduction**\n",
    "In this codelab, you'll learn how to create a powerful interactive generative AI application using Retrieval Augmented Generation powered by [Memorystore for Redis](https://cloud.google.com/memorystore) and [LangChain](https://www.langchain.com/). You'll build an application grounded in a [Netflix Movie dataset](https://www.kaggle.com/datasets/shivamb/netflix-shows), allowing you to interact with movie data in exciting new ways."
   ]
  },
  {
   "cell_type": "markdown",
   "metadata": {
    "id": "Ma6pEng3ypbA"
   },
   "source": [
    "## Prerequisites\n",
    "\n",
    "* A basic understanding of the Google Cloud Console\n",
    "* Basic skills in command line interface and Google Cloud shell\n",
    "* Basic python knowledge"
   ]
  },
  {
   "attachments": {},
   "cell_type": "markdown",
   "metadata": {
    "id": "DzDgqJHgysy1"
   },
   "source": [
    "## What You Will Learn\n",
    "\n",
    "* How to deploy a Memorystore for Redis instance\n",
    "* How to use Memorystore for Redis as a VectorStore\n",
    "* How to use Memorystore for Redis as a DocumentLoader\n",
    "* How to use Memorystore for Redis as ChatHistory storage"
   ]
  },
  {
   "attachments": {},
   "cell_type": "markdown",
   "metadata": {},
   "source": [
    "# **Setup and Requirements**\n",
    "\n",
    "In the following instructions you will learn to:\n",
    "1. Install required dependencies for your application\n",
    "2. Set up authentication for your project\n",
    "3. Set up a Memorystore for Redis Instance\n",
    "4. Import the data used by your application"
   ]
  },
  {
   "attachments": {},
   "cell_type": "markdown",
   "metadata": {},
   "source": [
    "## Install a Local Colab Runtime"
   ]
  },
  {
   "attachments": {},
   "cell_type": "markdown",
   "metadata": {},
   "source": [
    "Memorystore for Redis uses private, internal IP addresses for security. To access your Redis instance from the public internet, you'll need to set up a jump box and SSH into it from your Colab with port forwarding. Using a local Colab runtime makes this process easier.\n",
    "\n",
    "Download and run the latest Colab runtime docker image on your local machine: `docker run --network=host us-docker.pkg.dev/colab-images/public/runtime`"
   ]
  },
  {
   "attachments": {},
   "cell_type": "markdown",
   "metadata": {},
   "source": [
    "Connect Colab to the local Colab runtime. Please refer to the [instructions](https://research.google.com/colaboratory/local-runtimes.html)."
   ]
  },
  {
   "attachments": {},
   "cell_type": "markdown",
   "metadata": {
    "id": "uy9KqgPQ4GBi"
   },
   "source": [
    "## Install Dependencies"
   ]
  },
  {
   "attachments": {},
   "cell_type": "markdown",
   "metadata": {},
   "source": [
    "To start, you'll need to install the dependencies for this demo app."
   ]
  },
  {
   "cell_type": "code",
   "execution_count": null,
   "metadata": {
    "id": "M_ppDxYf4Gqs"
   },
   "outputs": [],
   "source": [
    "%pip install --quiet langchain-google-memorystore-redis\n",
    "# install additional depenedencies for the demo\n",
    "%pip install --quiet langchain langchain-google-vertexai redis"
   ]
  },
  {
   "attachments": {},
   "cell_type": "markdown",
   "metadata": {
    "id": "DeUbHclxw7_l"
   },
   "source": [
    "## Authenticate to Google Cloud within Colab"
   ]
  },
  {
   "attachments": {},
   "cell_type": "markdown",
   "metadata": {},
   "source": [
    "Authentice the local Colab runtime to Google Cloud as well."
   ]
  },
  {
   "cell_type": "code",
   "execution_count": null,
   "metadata": {},
   "outputs": [],
   "source": [
    "!gcloud auth login\n",
    "!gcloud auth application-default login"
   ]
  },
  {
   "attachments": {},
   "cell_type": "markdown",
   "metadata": {},
   "source": [
    "## Configure Your Project"
   ]
  },
  {
   "cell_type": "code",
   "execution_count": 12,
   "metadata": {},
   "outputs": [],
   "source": [
    "# @markdown Please fill in the value below with your GCP project ID/preferred region and then run the cell.\n",
    "\n",
    "# Please fill in these values.\n",
    "project_id = \"your_project_id\"  # @param {type:\"string\"}\n",
    "region = \"us-central1\"  # @param {type:\"string\"}\n",
    "\n",
    "# Get a list of zones in the region and pick one\n",
    "zone = get_ipython().getoutput(f'gcloud compute zones list --filter=\"region:({region})\" --format=\"value(name)\" | head -n 1')[0]"
   ]
  },
  {
   "attachments": {},
   "cell_type": "markdown",
   "metadata": {
    "id": "UCiNGP1Qxd6x"
   },
   "source": [
    "## Connect Your Google Cloud Project"
   ]
  },
  {
   "attachments": {},
   "cell_type": "markdown",
   "metadata": {},
   "source": [
    "To leverage Google Cloud from within Colab, you'll need to connect your Google Cloud Project to this notebook."
   ]
  },
  {
   "cell_type": "code",
   "execution_count": null,
   "metadata": {
    "id": "qjFuhRhVxlWP"
   },
   "outputs": [],
   "source": [
    "# Quick input validations.\n",
    "assert project_id, \"⚠️ Please provide a Google Cloud project ID\"\n",
    "\n",
    "# Configure gcloud.\n",
    "!gcloud config set project {project_id}\n",
    "!gcloud auth application-default set-quota-project {project_id}"
   ]
  },
  {
   "attachments": {},
   "cell_type": "markdown",
   "metadata": {},
   "source": [
    "## Configure Your Google Cloud Project"
   ]
  },
  {
   "attachments": {},
   "cell_type": "markdown",
   "metadata": {},
   "source": [
    "Enable the APIs for Vertex AI within your project"
   ]
  },
  {
   "cell_type": "code",
   "execution_count": null,
   "metadata": {},
   "outputs": [],
   "source": [
    "# Enable GCP services\n",
    "!gcloud services enable aiplatform.googleapis.com redis.googleapis.com"
   ]
  },
  {
   "attachments": {},
   "cell_type": "markdown",
   "metadata": {},
   "source": [
    "## Set up Memorystore for Redis\n",
    "You will need a Memorystore for Redis instance for the following stages of this notebook."
   ]
  },
  {
   "attachments": {},
   "cell_type": "markdown",
   "metadata": {},
   "source": [
    "Running the below cell will verify the existence of the Memorystore for Redis instance and or create a new instance if one does not exist.\n",
    "> ⏳ - Creating a Memorystore for Redis instance may take a few minutes."
   ]
  },
  {
   "cell_type": "code",
   "execution_count": null,
   "metadata": {},
   "outputs": [],
   "source": [
    "# @markdown Please fill in the both the Google Cloud region and name of your Memorystore for Redis instance. Once filled in, run the cell.\n",
    "\n",
    "# Please fill in these values.\n",
    "instance_name = \"redis-langchain\"  # @param {type:\"string\"}\n",
    "instance_size_gb = 100  # @param {type:\"string\"}\n",
    "\n",
    "# Quick input validations.\n",
    "assert project_id, \"⚠️ Please provide a Google Cloud project ID\"\n",
    "assert region, \"⚠️ Please provide a Google Cloud region\"\n",
    "assert instance_name, \"⚠️ Please provide the name of your instance\"\n",
    "assert instance_size_gb, \"⚠️ Please provide the size of your instance in GB\"\n",
    "\n",
    "\n",
    "# Check if Memorystore for Redis instance exists in the provided region with the correct engine version\n",
    "# TODO: Remove \"beta\" after GA\n",
    "redis_version = !gcloud beta redis instances describe {instance_name}  --project {project_id} --region {region} --format=\"value(redisVersion)\"\n",
    "if redis_version == [\"REDIS_7_2\"]:\n",
    "    print(\"Found an existing Memorystore for Redis Instance!\")\n",
    "else:\n",
    "    print(\"Creating a new Memorystore for Redis instance...\")\n",
    "    !gcloud beta redis instances create --region {region} {instance_name} --size {instance_size_gb} --zone {zone} --tier BASIC --redis-version=redis_7_2"
   ]
  },
  {
   "attachments": {},
   "cell_type": "markdown",
   "metadata": {},
   "source": [
    "**Important Note**: Memorystore for Redis uses private, internal IP addresses for security. This means you'll need to create a Google Compute Engine (GCE) VM within the same VPC as your Redis instance to connect."
   ]
  },
  {
   "cell_type": "code",
   "execution_count": null,
   "metadata": {},
   "outputs": [],
   "source": [
    "# Please fill in these values.\n",
    "vm_name = \"redis-jump-box\" #@param {type:\"string\"}\n",
    "\n",
    "# Quick input validations.\n",
    "assert project_id, \"⚠️ Please provide a Google Cloud project ID\"\n",
    "assert region, \"⚠️ Please provide a Google Cloud region\"\n",
    "assert vm_name, \"⚠️ Please provide the name of your vm\"\n",
    "\n",
    "vm_exists = !gcloud compute instances describe {vm_name} --project={project_id} --zone={zone}\n",
    "\n",
    "if \"ERROR\" in vm_exists[0]:\n",
    "    print(\"Creating a new Redis jump box ...\")\n",
    "    !gcloud compute instances create {vm_name} \\\n",
    "        --project={project_id} \\\n",
    "        --zone={zone} \\\n",
    "        --machine-type=e2-medium \\\n",
    "        --network-interface=network-tier=PREMIUM,stack-type=IPV4_ONLY,subnet=default \\\n",
    "        --maintenance-policy=MIGRATE \\\n",
    "        --provisioning-model=STANDARD \\\n",
    "        --scopes=https://www.googleapis.com/auth/cloud-platform \\\n",
    "        --no-shielded-secure-boot \\\n",
    "        --shielded-vtpm \\\n",
    "        --shielded-integrity-monitoring \\\n",
    "        --labels=goog-ec-src=vm_add-gcloud \\\n",
    "        --reservation-affinity=any\n",
    "else:\n",
    "    print(\"Found an existing Redis jump box!\")"
   ]
  },
  {
   "attachments": {},
   "cell_type": "markdown",
   "metadata": {},
   "source": [
    "To connect to your Redis instance, you'll need to establish an SSH tunnel using port forwarding through your Google Compute Engine (GCE) VM."
   ]
  },
  {
   "cell_type": "code",
   "execution_count": null,
   "metadata": {},
   "outputs": [],
   "source": [
    "redis_ip = !gcloud beta redis instances describe {instance_name} --region {region} --format=\"value(host)\"\n",
    "!gcloud compute ssh --project={project_id} --zone={region}-a {vm_name} -- -NL 6379:{redis_ip}:6379"
   ]
  },
  {
   "attachments": {},
   "cell_type": "markdown",
   "metadata": {
    "jp-MarkdownHeadingCollapsed": true
   },
   "source": [
    "## Import data to your Redis instance\n",
    "\n",
    "Now that you have your Redis instance, you will need to import data! You will be using a [Netflix Dataset from Kaggle](https://www.kaggle.com/datasets/shivamb/netflix-shows). Here is what the data looks like:"
   ]
  },
  {
   "cell_type": "markdown",
   "metadata": {
    "id": "36-FBKzJ-tLa"
   },
   "source": [
    "| show_id | type    | title                | director         | cast                                                                                                                                                  | country       | date_added        | release_year | rating | duration  | listed_in                                    | description                                                                                                                                                                           |\n",
    "|---------|---------|----------------------|------------------|--------------------------------------------------------------------------------------------------------------------------------------------------------|---------------|-------------------|--------------|--------|-----------|----------------------------------------------|---------------------------------------------------------------------------------------------------------------------------------------------------------------------------------------|\n",
    "| s1      | Movie   | Dick Johnson Is Dead | Kirsten Johnson  |                                                                                                                                                        | United States | September 25, 2021 | 2020         | PG-13  | 90 min    | Documentaries                                | As her father nears the end of his life, filmmaker Kirsten Johnson stages his death in inventive and comical ways to help them both face the inevitable.                              |\n",
    "| s2      | TV Show | Blood & Water        |                  | Ama Qamata, Khosi Ngema, Gail Mabalane, Thabang Molaba, Dillon Windvogel, Natasha Thahane, Arno Greeff, Xolile Tshabalala, Getmore Sithole, Cindy Mahlangu, Ryle De Morny, Greteli Fincham, Sello Maake Ka-Ncube, Odwa Gwanya, Mekaila Mathys, Sandi Schultz, Duane Williams, Shamilla Miller, Patrick Mofokeng | South Africa  | September 24, 2021 | 2021         | TV-MA  | 2 Seasons | International TV Shows, TV Dramas, TV Mysteries | After crossing paths at a party, a Cape Town teen sets out to prove whether a private-school swimming star is her sister who was abducted at birth.                                   |\n",
    "| s3      | TV Show | Ganglands            | Julien Leclercq  | Sami Bouajila, Tracy Gotoas, Samuel Jouy, Nabiha Akkari, Sofia Lesaffre, Salim Kechiouche, Noureddine Farihi, Geert Van Rampelberg, Bakary Diombera                                   |               | September 24, 2021 | 2021         | TV-MA  | 1 Season  | Crime TV Shows, International TV Shows, TV Action & Adventure | To protect his family from a powerful drug lord, skilled thief Mehdi and his expert team of robbers are pulled into a violent and deadly turf war.                                     |\n",
    "| s4      | TV Show | Jailbirds New Orleans |                  |                                                                                                                                                        |               | September 24, 2021 | 2021         | TV-MA  | 1 Season  | Docuseries, Reality TV                        | Feuds, flirtations and toilet talk go down among the incarcerated women at the Orleans Justice Center in New Orleans on this gritty reality series.                                   |\n",
    "| s5      | TV Show | Kota Factory         |                  | Mayur More, Jitendra Kumar, Ranjan Raj, Alam Khan, Ahsaas Channa, Revathi Pillai, Urvi Singh, Arun Kumar                                                 | India        | September 24, 2021 | 2021         | TV-MA  | 2 Seasons | International TV Shows, Romantic TV Shows, TV Comedies | In a city of coaching centers known to train India’s finest collegiate minds, an earnest but unexceptional student and his friends navigate campus life. |\n"
   ]
  },
  {
   "attachments": {},
   "cell_type": "markdown",
   "metadata": {},
   "source": [
    "Create a Redis client:"
   ]
  },
  {
   "cell_type": "code",
   "execution_count": 21,
   "metadata": {},
   "outputs": [],
   "source": [
    "import redis\n",
    "\n",
    "# Since using SSH, \"localhost\" (127.0.0.1) is the address for the Redis instance\n",
    "client = redis.from_url(f\"redis://127.0.0.1:6379\")"
   ]
  },
  {
   "attachments": {},
   "cell_type": "markdown",
   "metadata": {},
   "source": [
    "Download the dataset:"
   ]
  },
  {
   "cell_type": "code",
   "execution_count": 22,
   "metadata": {},
   "outputs": [],
   "source": [
    "from google.cloud import storage\n",
    "\n",
    "# Initialize the Google Cloud Storage client\n",
    "gcs_client = storage.Client()\n",
    "\n",
    "# Download the CSV file\n",
    "bucket_name = \"cloud-samples-data\"\n",
    "source_blob_name = \"langchain/netflix_titles_compute_embeddings.csv\"\n",
    "csv_file_path = \"./netflix_titles_compute_embeddings.csv\"\n",
    "gcs_client.bucket(bucket_name).blob(source_blob_name).download_to_filename(\n",
    "    csv_file_path\n",
    ")"
   ]
  },
  {
   "attachments": {},
   "cell_type": "markdown",
   "metadata": {},
   "source": [
    "Load the data into Redis:"
   ]
  },
  {
   "cell_type": "code",
   "execution_count": 29,
   "metadata": {},
   "outputs": [],
   "source": [
    "import csv\n",
    "import redis\n",
    "\n",
    "# Create a pipeline\n",
    "pipeline = client.pipeline()\n",
    "\n",
    "# Path to the CSV file\n",
    "csv_file_path = \"./netflix_titles_compute_embeddings.csv\"\n",
    "\n",
    "batch_size = 500\n",
    "\n",
    "with open(csv_file_path, mode=\"r\", encoding=\"utf-8\") as file:\n",
    "    reader = csv.DictReader(file)\n",
    "    count = 0  # Initialize a counter to keep track of batch size\n",
    "\n",
    "    for row in reader:\n",
    "        redis_key = f\"netflix:{row['show_id']}\"\n",
    "        redis_hash = {k: v for k, v in row.items() if k != \"show_id\"}\n",
    "\n",
    "        # Add the HSET operation to the pipeline\n",
    "        pipeline.hset(redis_key, mapping=redis_hash)\n",
    "\n",
    "        count += 1  # Increment the counter for each operation added\n",
    "\n",
    "        # Execute the pipeline every 100 operations\n",
    "        if count % batch_size == 0:\n",
    "            pipeline.execute()\n",
    "            pipeline = client.pipeline()  # Reset the pipeline after execution\n",
    "\n",
    "    # Execute any remaining commands in the pipeline\n",
    "    pipeline.execute()"
   ]
  },
  {
   "attachments": {},
   "cell_type": "markdown",
   "metadata": {},
   "source": [
    "# Use case 1: Memorystore for Redis as a Document Loader"
   ]
  },
  {
   "attachments": {},
   "cell_type": "markdown",
   "metadata": {},
   "source": [
    "Now that you have data in your Redis instance, you're ready to use it as a document loader. This means you'll pull data from the Redis instance and load it into memory as documents, ready to be added to your vector store.\n",
    "\n",
    "To use your Memorystore for Redis instance as a document loader, you'll utilize the MemorystoreDocumentLoader class.\n",
    "\n",
    "The \"content_fields\" argument specifies which fields within your Redis HASH keys will become the \"content\" of your documents. Any other fields within those HASH keys will be treated as \"metadata\" attached to each document."
   ]
  },
  {
   "cell_type": "code",
   "execution_count": 30,
   "metadata": {},
   "outputs": [],
   "source": [
    "from langchain_google_memorystore_redis import MemorystoreDocumentLoader\n",
    "\n",
    "content_fields = [\"title\", \"director\", \"cast\", \"description\"]\n",
    "loader = MemorystoreDocumentLoader(\n",
    "    client=client, key_prefix=\"netflix:\", content_fields=content_fields\n",
    ")"
   ]
  },
  {
   "attachments": {},
   "cell_type": "markdown",
   "metadata": {},
   "source": [
    " Run the `lazy_load` function to pull documents from your Redis instance. Take a look at the first 5 documents below. Awesome, you've successfully used Memorystore for Redis as a document loader!"
   ]
  },
  {
   "cell_type": "code",
   "execution_count": null,
   "metadata": {},
   "outputs": [],
   "source": [
    "iterator = loader.lazy_load()\n",
    "for i in range(5):\n",
    "    print(next(iterator))"
   ]
  },
  {
   "attachments": {},
   "cell_type": "markdown",
   "metadata": {},
   "source": [
    "# Use case 2: Memorystore for Redis as a Vector Store"
   ]
  },
  {
   "attachments": {},
   "cell_type": "markdown",
   "metadata": {},
   "source": [
    "Now, you'll learn how to put all of the documents you just loaded into a vector store backed by Memorystore for Redis. This will allow you to use vector search to answer user questions!"
   ]
  },
  {
   "attachments": {},
   "cell_type": "markdown",
   "metadata": {},
   "source": [
    "To create a vector store, you'll start by initializing it using the `init_index` function. Include all the fields you want for metadata, and specify a vector size (768) that matches the output of your embedding model (Vertex AI's textembedding-gecko in this case)."
   ]
  },
  {
   "cell_type": "code",
   "execution_count": 32,
   "metadata": {},
   "outputs": [],
   "source": [
    "import re\n",
    "from langchain_google_memorystore_redis import (\n",
    "    DistanceStrategy,\n",
    "    HNSWConfig,\n",
    "    RedisVectorStore,\n",
    ")\n",
    "\n",
    "index_config = HNSWConfig(\n",
    "    name=\"netflix_vs:\", distance_strategy=DistanceStrategy.COSINE, vector_size=768\n",
    ")\n",
    "\n",
    "try:\n",
    "    RedisVectorStore.init_index(client=client, index_config=index_config)\n",
    "except redis.exceptions.ResponseError as e:\n",
    "    if re.match(r\".*already exists\", str(e)):\n",
    "        print(\"Index already exists, skipping creation.\")\n",
    "    else:\n",
    "        raise"
   ]
  },
  {
   "attachments": {},
   "cell_type": "markdown",
   "metadata": {},
   "source": [
    "Initialize your embedding service. Here, you're using version 003 of Vertex AI's textembedding-gecko model. Specifying the model version is important for reproducibility and managing updates. Note that for each insertion, the embedding service will be called to compute the embeddings to store in the vector table. Pricing details can be found [here](https://cloud.google.com/vertex-ai/pricing)."
   ]
  },
  {
   "cell_type": "code",
   "execution_count": 33,
   "metadata": {},
   "outputs": [],
   "source": [
    "from langchain_google_vertexai import VertexAIEmbeddings\n",
    "\n",
    "embeddings_service = VertexAIEmbeddings(\n",
    "    model_name=\"textembedding-gecko@003\", project=project_id\n",
    ")"
   ]
  },
  {
   "attachments": {},
   "cell_type": "markdown",
   "metadata": {},
   "source": [
    "Next, create a vector_store object linked to your Memorystore for Redis instance and then load your documents into the vector store.  **Important**: for each document, the embedding service will compute embeddings for storage – please refer to pricing details [here](https://cloud.google.com/vertex-ai/pricing)."
   ]
  },
  {
   "cell_type": "code",
   "execution_count": 34,
   "metadata": {},
   "outputs": [],
   "source": [
    "vector_store = RedisVectorStore(\n",
    "    client=client, index_name=\"netflix_vs:\", embeddings=embeddings_service\n",
    ")"
   ]
  },
  {
   "attachments": {},
   "cell_type": "markdown",
   "metadata": {},
   "source": [
    "You're ready to populate your vector store. Here's the code to start loading documents:\n",
    "> ⏳ - Loading 8800+ documents might take a few seconds. Network speed will affect the time."
   ]
  },
  {
   "cell_type": "code",
   "execution_count": null,
   "metadata": {},
   "outputs": [],
   "source": [
    "docs_to_load = loader.load()"
   ]
  },
  {
   "attachments": {},
   "cell_type": "markdown",
   "metadata": {},
   "source": [
    "Now, you can add the loaded documents into the vector store backed by Memorystore for Redis.\n",
    "\n",
    "> ⏳ - This process can take up to a minute. The vector store will call Vertex AI's embedding service to create embeddings for each document and store them in Redis."
   ]
  },
  {
   "cell_type": "code",
   "execution_count": null,
   "metadata": {},
   "outputs": [],
   "source": [
    "doc_ids = vector_store.add_documents(docs_to_load)\n",
    "print(doc_ids[:5])"
   ]
  },
  {
   "attachments": {},
   "cell_type": "markdown",
   "metadata": {},
   "source": [
    "# Use case 3: Memorystore for Redis as Chat Memory"
   ]
  },
  {
   "attachments": {},
   "cell_type": "markdown",
   "metadata": {},
   "source": [
    "You'll now add chat history (or \"memory\") for more advanced LLM interactions.   This allows the LLM to retain context from past conversations, leading to better responses. Memorystore for Redis will be your memory storage.  To start,  let's initialize Memorystore for Redis for this purpose."
   ]
  },
  {
   "cell_type": "code",
   "execution_count": 43,
   "metadata": {},
   "outputs": [],
   "source": [
    "from langchain_google_memorystore_redis import MemorystoreChatMessageHistory\n",
    "\n",
    "chat_history = MemorystoreChatMessageHistory(\n",
    "    client=client,\n",
    "    session_id=\"my_session\",\n",
    ")"
   ]
  },
  {
   "attachments": {},
   "cell_type": "markdown",
   "metadata": {},
   "source": [
    "To manage chat history, you'll typically need to alternate between adding user messages and AI responses to your memory storage. Here's a basic example of how you might implement this in code."
   ]
  },
  {
   "cell_type": "code",
   "execution_count": null,
   "metadata": {},
   "outputs": [],
   "source": [
    "chat_history.add_user_message(\"Hi!\")\n",
    "chat_history.add_ai_message(\"Hello there. I'm a model and am happy to help!\")\n",
    "\n",
    "chat_history.messages"
   ]
  },
  {
   "attachments": {},
   "cell_type": "markdown",
   "metadata": {},
   "source": [
    "# Conversational RAG Chain Backed by Memorystore for Redis"
   ]
  },
  {
   "attachments": {},
   "cell_type": "markdown",
   "metadata": {
    "id": "j2OxF3JoNA7J"
   },
   "source": [
    "You've already explored Memorystore for Redis in several roles –  now it's time to integrate it into the ConversationalRetrievalChain!  You'll build a movie chatbot that leverages vector search for insightful answers."
   ]
  },
  {
   "attachments": {},
   "cell_type": "markdown",
   "metadata": {},
   "source": [
    "Customize your LLM prompt with instructions that improve the bot's responses. For example, a reminder like 'Don't make things up' can increase accuracy in your movie chatbot."
   ]
  },
  {
   "cell_type": "code",
   "execution_count": 45,
   "metadata": {},
   "outputs": [],
   "source": [
    "from langchain_core.prompts import PromptTemplate\n",
    "\n",
    "prompt = PromptTemplate(\n",
    "    template=\"\"\"Use all the information from the context and the conversation history to answer new question. If you see the answer in previous conversation history or the context. \\\n",
    "Answer it with clarifying the source information. If you don't see it in the context or the chat history, just say you \\\n",
    "didn't find the answer in the given data. Don't make things up.\n",
    "\n",
    "Previous conversation history from the questioner. \"Human\" was the user who's asking the new question. \"Assistant\" was you as the assistant:\n",
    "```{chat_history}\n",
    "```\n",
    "\n",
    "Vector search result of the new question:\n",
    "```{context}\n",
    "```\n",
    "\n",
    "New Question:\n",
    "```{question}```\n",
    "\n",
    "Answer:\"\"\",\n",
    "    input_variables=[\"context\", \"question\", \"chat_history\"],\n",
    ")\n",
    "condense_question_prompt_passthrough = PromptTemplate(\n",
    "    template=\"\"\"Repeat the following question:\n",
    "{question}\n",
    "\"\"\",\n",
    "    input_variables=[\"question\"],\n",
    ")"
   ]
  },
  {
   "attachments": {},
   "cell_type": "markdown",
   "metadata": {},
   "source": [
    "Now, you'll use your vector store as a retriever with LangChain. This will allow you to directly \"fetch\" relevant documents based on your queries."
   ]
  },
  {
   "cell_type": "code",
   "execution_count": 46,
   "metadata": {},
   "outputs": [],
   "source": [
    "retriever = vector_store.as_retriever(\n",
    "    search_type=\"mmr\", search_kwargs={\"k\": 5, \"lambda_mult\": 0.8}\n",
    ")"
   ]
  },
  {
   "attachments": {},
   "cell_type": "markdown",
   "metadata": {},
   "source": [
    "Now, initialize your LLM. For this example, you're using Vertex AI's \"gemini-pro\" model."
   ]
  },
  {
   "cell_type": "code",
   "execution_count": 47,
   "metadata": {},
   "outputs": [],
   "source": [
    "from langchain_google_vertexai import VertexAI\n",
    "\n",
    "llm = VertexAI(model_name=\"gemini-pro\", project=project_id)"
   ]
  },
  {
   "attachments": {},
   "cell_type": "markdown",
   "metadata": {},
   "source": [
    "Clear the chat history to ensure a clean conversational experience every time."
   ]
  },
  {
   "cell_type": "code",
   "execution_count": 48,
   "metadata": {},
   "outputs": [],
   "source": [
    "from langchain.memory import ConversationSummaryBufferMemory\n",
    "\n",
    "chat_history.clear()\n",
    "memory = ConversationSummaryBufferMemory(\n",
    "    llm=llm,\n",
    "    chat_memory=chat_history,\n",
    "    output_key=\"answer\",\n",
    "    memory_key=\"chat_history\",\n",
    "    return_messages=True,\n",
    ")"
   ]
  },
  {
   "attachments": {},
   "cell_type": "markdown",
   "metadata": {},
   "source": [
    "Now, create a ConversationalRetrievalChain. This will empower the LLM to incorporate chat history into its responses. You'll be able to ask follow-up questions without needing to provide full context every time."
   ]
  },
  {
   "cell_type": "code",
   "execution_count": 49,
   "metadata": {},
   "outputs": [],
   "source": [
    "from langchain.chains import ConversationalRetrievalChain\n",
    "\n",
    "rag_chain = ConversationalRetrievalChain.from_llm(\n",
    "    llm=llm,\n",
    "    retriever=retriever,\n",
    "    verbose=False,\n",
    "    memory=memory,\n",
    "    condense_question_prompt=condense_question_prompt_passthrough,\n",
    "    combine_docs_chain_kwargs={\"prompt\": prompt},\n",
    ")"
   ]
  },
  {
   "attachments": {},
   "cell_type": "markdown",
   "metadata": {},
   "source": [
    "Start chatting with your movie chatbot!"
   ]
  },
  {
   "cell_type": "code",
   "execution_count": null,
   "metadata": {},
   "outputs": [],
   "source": [
    "# Suppress all deprecation warnings\n",
    "import warnings\n",
    "\n",
    "warnings.filterwarnings(\"ignore\", category=DeprecationWarning)\n",
    "\n",
    "q = \"What movie was Brad Pitt in?\"\n",
    "ans = rag_chain({\"question\": q, \"chat_history\": chat_history})[\"answer\"]\n",
    "print(f\"Question: {q}\\nAnswer: {ans}\\n\")\n",
    "\n",
    "q = \"How about Jonny Depp?\"\n",
    "ans = rag_chain({\"question\": q, \"chat_history\": chat_history})[\"answer\"]\n",
    "print(f\"Question: {q}\\nAnswer: {ans}\\n\")\n",
    "\n",
    "q = \"Are there movies about animals?\"\n",
    "ans = rag_chain({\"question\": q, \"chat_history\": chat_history})[\"answer\"]\n",
    "print(f\"Question: {q}\\nAnswer: {ans}\\n\")"
   ]
  }
 ],
 "metadata": {
  "kernelspec": {
   "display_name": "Python 3 (ipykernel)",
   "language": "python",
   "name": "python3"
  },
  "language_info": {
   "codemirror_mode": {
    "name": "ipython",
    "version": 3
   },
   "file_extension": ".py",
   "mimetype": "text/x-python",
   "name": "python",
   "nbconvert_exporter": "python",
   "pygments_lexer": "ipython3",
   "version": "3.12.2"
  }
 },
 "nbformat": 4,
 "nbformat_minor": 4
}
